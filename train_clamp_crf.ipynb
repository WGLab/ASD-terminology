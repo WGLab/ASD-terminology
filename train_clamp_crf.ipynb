{
 "cells": [
  {
   "cell_type": "code",
   "execution_count": 1,
   "metadata": {},
   "outputs": [],
   "source": [
    "import os"
   ]
  },
  {
   "cell_type": "code",
   "execution_count": 2,
   "metadata": {},
   "outputs": [],
   "source": [
    "TRAIN_TEST_DIRECTORY = \"full_text_train_test\"\n",
    "TRAINING_DIRECTORY = os.path.join(TRAIN_TEST_DIRECTORY, \"train\", \"clamp_output\")\n",
    "TESTING_DIRECTORY = os.path.join(TRAIN_TEST_DIRECTORY, \"test\", \"clamp_output\")\n",
    "\n",
    "with open(os.path.join(TRAIN_TEST_DIRECTORY, \"filelist.txt\"), \"w\") as f:\n",
    "    for filename in os.listdir(TRAINING_DIRECTORY):\n",
    "        if filename.endswith(\".xmi\"):\n",
    "            f.write(\"corpus/\" + filename + \"\\t\" + \"train\" + \"\\n\")\n",
    "            \n",
    "    for filename in os.listdir(TESTING_DIRECTORY):\n",
    "        if filename.endswith(\".xmi\"):\n",
    "            f.write(\"corpus/\" + filename + \"\\t\" + \"test\" + \"\\n\")"
   ]
  },
  {
   "cell_type": "code",
   "execution_count": 3,
   "metadata": {},
   "outputs": [],
   "source": [
    "# check\n",
    "num_train = 0\n",
    "num_test = 0\n",
    "with open(os.path.join(TRAIN_TEST_DIRECTORY, \"filelist.txt\"), \"r\") as f:\n",
    "    for line in f:\n",
    "        if \"train\" in line:\n",
    "            num_train = num_train + 1\n",
    "        elif \"test\" in line:\n",
    "            num_test = num_test + 1\n",
    "        else:\n",
    "            print(line)"
   ]
  },
  {
   "cell_type": "code",
   "execution_count": 4,
   "metadata": {},
   "outputs": [
    {
     "name": "stdout",
     "output_type": "stream",
     "text": [
      "499\n"
     ]
    }
   ],
   "source": [
    "print(num_train)"
   ]
  },
  {
   "cell_type": "code",
   "execution_count": 5,
   "metadata": {},
   "outputs": [
    {
     "name": "stdout",
     "output_type": "stream",
     "text": [
      "46\n"
     ]
    }
   ],
   "source": [
    "print(num_test)"
   ]
  }
 ],
 "metadata": {
  "kernelspec": {
   "display_name": "Python 3",
   "language": "python",
   "name": "python3"
  },
  "language_info": {
   "codemirror_mode": {
    "name": "ipython",
    "version": 3
   },
   "file_extension": ".py",
   "mimetype": "text/x-python",
   "name": "python",
   "nbconvert_exporter": "python",
   "pygments_lexer": "ipython3",
   "version": "3.7.4"
  }
 },
 "nbformat": 4,
 "nbformat_minor": 2
}
